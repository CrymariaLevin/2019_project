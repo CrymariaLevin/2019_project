{
 "cells": [
  {
   "cell_type": "code",
   "execution_count": 21,
   "metadata": {},
   "outputs": [
    {
     "name": "stdout",
     "output_type": "stream",
     "text": [
      "Found 40000 images belonging to 10 classes.\n",
      "Found 2000 images belonging to 10 classes.\n"
     ]
    }
   ],
   "source": [
    "# -*- coding:utf-8 -*-\n",
    "# !/usr/bin/python\n",
    "# Author: Selvaria\n",
    "# 基于实际图片数据增强后的卷积模型\n",
    "\n",
    "import pandas\n",
    "from keras.models import Sequential \n",
    "from keras.layers import Dense, Dropout, Flatten\n",
    "from keras.layers import Conv2D, MaxPooling2D\n",
    "from keras.preprocessing.image import ImageDataGenerator\n",
    "\n",
    "df_data = pandas.read_csv(r'D:\\data\\Kaggle\\MNIST\\train.csv')\n",
    "train_dir = 'D:/data/Kaggle/MNIST/picture/train'\n",
    "test_dir = 'D:/data/Kaggle/MNIST/picture/test'\n",
    "\n",
    "train_datagen = ImageDataGenerator(\n",
    "    rescale = 1/255, #对图片的每个像素值均乘上这个放缩因子，把像素值放缩到0和1之间有利于模型的收敛\n",
    "    rotation_range = 20, #角度值，0-180.表示图像随机旋转的角度范围\n",
    "    width_shift_range = 0.1, #平移比例，下同\n",
    "    height_shift_range = 0.1,\n",
    "    shear_range = 0.2, #随机错切变换角度\n",
    "    zoom_range = 0.2, #随机缩放比例\n",
    "    horizontal_flip = False, #随机将一半图像水平翻转，主要用于真实世界的图像（即没有水平不对称的假设前提下）\n",
    "    #zca_whitening=True, #白化处理，只适用于mnist这种只有1条通道的黑白图像\n",
    "    fill_mode='nearest' #填充新创建像素的方法\n",
    ")\n",
    "\n",
    "test_datagen = ImageDataGenerator(rescale=1/255) #注意验证集的数据不能增强\n",
    "\n",
    "\n",
    "train_generator = train_datagen.flow_from_directory(\n",
    "    train_dir,\n",
    "    target_size = (28, 28),\n",
    "    batch_size = 200, #每批量样本大小\n",
    "    class_mode = 'categorical' #因为使用了categorical_crossentropy损失函数，所以用二进制标签\n",
    ")\n",
    "\n",
    "test_generator = test_datagen.flow_from_directory(\n",
    "    test_dir, \n",
    "    target_size = (28, 28),\n",
    "    batch_size = 20,\n",
    "    class_mode = 'categorical' \n",
    ")"
   ]
  },
  {
   "cell_type": "code",
   "execution_count": 23,
   "metadata": {},
   "outputs": [
    {
     "name": "stdout",
     "output_type": "stream",
     "text": [
      "_________________________________________________________________\n",
      "Layer (type)                 Output Shape              Param #   \n",
      "=================================================================\n",
      "conv2d_25 (Conv2D)           (None, 28, 28, 32)        2432      \n",
      "_________________________________________________________________\n",
      "conv2d_26 (Conv2D)           (None, 28, 28, 32)        25632     \n",
      "_________________________________________________________________\n",
      "max_pooling2d_23 (MaxPooling (None, 14, 14, 32)        0         \n",
      "_________________________________________________________________\n",
      "dropout_23 (Dropout)         (None, 14, 14, 32)        0         \n",
      "_________________________________________________________________\n",
      "conv2d_27 (Conv2D)           (None, 14, 14, 64)        18496     \n",
      "_________________________________________________________________\n",
      "conv2d_28 (Conv2D)           (None, 14, 14, 64)        36928     \n",
      "_________________________________________________________________\n",
      "max_pooling2d_24 (MaxPooling (None, 7, 7, 64)          0         \n",
      "_________________________________________________________________\n",
      "dropout_24 (Dropout)         (None, 7, 7, 64)          0         \n",
      "_________________________________________________________________\n",
      "flatten_10 (Flatten)         (None, 3136)              0         \n",
      "_________________________________________________________________\n",
      "dense_20 (Dense)             (None, 256)               803072    \n",
      "_________________________________________________________________\n",
      "dropout_25 (Dropout)         (None, 256)               0         \n",
      "_________________________________________________________________\n",
      "dense_21 (Dense)             (None, 10)                2570      \n",
      "=================================================================\n",
      "Total params: 889,130\n",
      "Trainable params: 889,130\n",
      "Non-trainable params: 0\n",
      "_________________________________________________________________\n"
     ]
    }
   ],
   "source": [
    "from keras.layers import Conv2D, MaxPooling2D, Dense, Flatten, Dropout\n",
    "from keras import models\n",
    "\n",
    "model = Sequential()\n",
    "\n",
    "model.add(Conv2D(filters = 32, kernel_size = (5,5),padding = 'same',activation ='relu', input_shape = (28,28,3)))\n",
    "model.add(Conv2D(filters = 32, kernel_size = (5,5),padding = 'same',activation ='relu'))\n",
    "model.add(MaxPooling2D(pool_size=(2,2)))\n",
    "model.add(Dropout(0.25))\n",
    "\n",
    "model.add(Conv2D(filters = 64, kernel_size = (3,3),padding = 'same', activation ='relu'))\n",
    "model.add(Conv2D(filters = 64, kernel_size = (3,3),padding = 'same', activation ='relu'))\n",
    "model.add(MaxPooling2D(pool_size=(2,2), strides=(2,2)))\n",
    "model.add(Dropout(0.25))\n",
    "\n",
    "\n",
    "model.add(Flatten())\n",
    "model.add(Dense(256, activation = \"relu\"))\n",
    "model.add(Dropout(0.5))\n",
    "model.add(Dense(10, activation = \"softmax\"))\n",
    "model.summary()"
   ]
  },
  {
   "cell_type": "code",
   "execution_count": null,
   "metadata": {},
   "outputs": [
    {
     "name": "stdout",
     "output_type": "stream",
     "text": [
      "Epoch 1/30\n",
      "200/200 [==============================] - 167s 834ms/step - loss: 1.7555 - acc: 0.3552 - val_loss: 0.2591 - val_acc: 0.9225\n",
      "Epoch 2/30\n",
      "200/200 [==============================] - 171s 853ms/step - loss: 0.4123 - acc: 0.8731 - val_loss: 0.1206 - val_acc: 0.9660\n",
      "Epoch 3/30\n",
      "200/200 [==============================] - 159s 797ms/step - loss: 0.2621 - acc: 0.9201 - val_loss: 0.0964 - val_acc: 0.9720\n",
      "Epoch 4/30\n",
      "200/200 [==============================] - 165s 826ms/step - loss: 0.2103 - acc: 0.9352 - val_loss: 0.0801 - val_acc: 0.9765\n",
      "Epoch 5/30\n",
      "200/200 [==============================] - 168s 839ms/step - loss: 0.1823 - acc: 0.9452 - val_loss: 0.0766 - val_acc: 0.9740\n",
      "Epoch 6/30\n",
      "200/200 [==============================] - 160s 801ms/step - loss: 0.1630 - acc: 0.9493 - val_loss: 0.0658 - val_acc: 0.9795\n",
      "Epoch 7/30\n",
      "200/200 [==============================] - 162s 810ms/step - loss: 0.1502 - acc: 0.9538 - val_loss: 0.0554 - val_acc: 0.9800\n",
      "Epoch 8/30\n",
      "200/200 [==============================] - 161s 806ms/step - loss: 0.1445 - acc: 0.9562 - val_loss: 0.0521 - val_acc: 0.9860\n",
      "Epoch 9/30\n",
      "190/200 [===========================>..] - ETA: 7s - loss: 0.1304 - acc: 0.9590"
     ]
    }
   ],
   "source": [
    "model.compile(optimizer='adam', loss='categorical_crossentropy', metrics=['accuracy'])\n",
    "\n",
    "history = model.fit_generator(\n",
    "    train_generator,\n",
    "    steps_per_epoch = 200, #40000/200\n",
    "    epochs = 30, #增加了训练批次\n",
    "    validation_data = test_generator, \n",
    "    validation_steps = 100 #2000/20\n",
    ")"
   ]
  },
  {
   "cell_type": "code",
   "execution_count": 15,
   "metadata": {},
   "outputs": [
    {
     "name": "stdout",
     "output_type": "stream",
     "text": [
      "[0.16970274890247766, 0.9624999910593033]\n"
     ]
    }
   ],
   "source": [
    "print(model.evaluate_generator(test_generator, steps = 30))"
   ]
  }
 ],
 "metadata": {
  "kernelspec": {
   "display_name": "Python 3",
   "language": "python",
   "name": "python3"
  },
  "language_info": {
   "codemirror_mode": {
    "name": "ipython",
    "version": 3
   },
   "file_extension": ".py",
   "mimetype": "text/x-python",
   "name": "python",
   "nbconvert_exporter": "python",
   "pygments_lexer": "ipython3",
   "version": "3.6.4"
  }
 },
 "nbformat": 4,
 "nbformat_minor": 2
}
