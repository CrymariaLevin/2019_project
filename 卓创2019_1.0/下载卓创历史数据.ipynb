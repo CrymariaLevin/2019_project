{
 "cells": [
  {
   "cell_type": "code",
   "execution_count": 1,
   "metadata": {},
   "outputs": [],
   "source": [
    "from seconf import *\n",
    "from robint import *"
   ]
  },
  {
   "cell_type": "code",
   "execution_count": 2,
   "metadata": {},
   "outputs": [],
   "source": [
    "import logging\n",
    "\n",
    "logging.basicConfig(level = logging.INFO, format = '%(asctime)s - %(name)s - %(levelname)s - %(message)s')\n",
    "logger = logging.getLogger(__name__)"
   ]
  },
  {
   "cell_type": "code",
   "execution_count": 3,
   "metadata": {},
   "outputs": [],
   "source": [
    "g_timer = RunTimer()\n",
    "g_spider = SpiderProxy(drv_type=\"chrome\", load_img=True)"
   ]
  },
  {
   "cell_type": "code",
   "execution_count": 4,
   "metadata": {},
   "outputs": [],
   "source": [
    "LOGIN_USER = \"jusure2016\"\n",
    "LOGIN_PASS = \"jusure2017\""
   ]
  },
  {
   "cell_type": "code",
   "execution_count": null,
   "metadata": {},
   "outputs": [],
   "source": [
    "# def web_login(webdrv):\n",
    "# 打开页面\n",
    "webdrv = g_spider.webdrv\n",
    "webdrv.get(\"http://price.oilchem.net/depProList.lz?webFlag=1\")\n",
    "# 找到登录按钮\n",
    "elem_btn_login = webdrv.find_element_by_id(\"idBoxOpen\")\n",
    "# 点击登录按钮\n",
    "elem_btn_login.click()\n",
    "time.sleep(1)\n",
    "# 定位到loginFrame，获取用户名口令的输入框，填入相应数据\n",
    "webdrv.switch_to.frame(\"login_frame\")\n",
    "# 填入用户名和口令\n",
    "elem_edt_user = webdrv.find_element_by_id(\"etuser_userLoginname\")\n",
    "elem_edt_pass = webdrv.find_element_by_id(\"etuser_userPassword\")\n",
    "elem_edt_user.send_keys(LOGIN_USER)\n",
    "elem_edt_pass.send_keys(LOGIN_PASS)\n",
    "# 登录按钮\n",
    "time.sleep(1)\n",
    "elem_fbtn_login = webdrv.find_element_by_id(\"login\")\n",
    "elem_fbtn_login.click()\n",
    "time.sleep(2)\n",
    "webdrv.refresh()"
   ]
  }
 ],
 "metadata": {
  "kernelspec": {
   "display_name": "Python 3",
   "language": "python",
   "name": "python3"
  },
  "language_info": {
   "codemirror_mode": {
    "name": "ipython",
    "version": 3
   },
   "file_extension": ".py",
   "mimetype": "text/x-python",
   "name": "python",
   "nbconvert_exporter": "python",
   "pygments_lexer": "ipython3",
   "version": "3.6.5"
  }
 },
 "nbformat": 4,
 "nbformat_minor": 2
}
